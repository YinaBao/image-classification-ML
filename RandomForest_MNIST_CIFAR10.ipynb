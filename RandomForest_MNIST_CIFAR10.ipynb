{
 "cells": [
  {
   "cell_type": "markdown",
   "metadata": {},
   "source": [
    "# Classification of images in CIFAR-10 database by Random Forest Classifier"
   ]
  },
  {
   "cell_type": "code",
   "execution_count": 23,
   "metadata": {
    "collapsed": true
   },
   "outputs": [],
   "source": [
    "import numpy as np\n",
    "import pandas as pd\n",
    "from collections import OrderedDict\n",
    "from sklearn.ensemble import RandomForestClassifier\n",
    "from sklearn.metrics import precision_recall_fscore_support\n",
    "from sklearn.preprocessing import LabelEncoder\n",
    "from sklearn.metrics import accuracy_score\n",
    "import matplotlib.image as mpimg\n",
    "import matplotlib.pyplot as plt\n",
    "from time import time\n",
    "import warnings\n",
    "\n",
    "warnings.filterwarnings('ignore')#mute the warning messages"
   ]
  },
  {
   "cell_type": "markdown",
   "metadata": {},
   "source": [
    "## Data preprocessing\n",
    "\n",
    "The dataset labeled as \"train\" has 50000 images saved as png files and a csv file with labels to identify each of these files are also available. We will use this dataset and split it into a training set and testing set for this project.\n",
    "\n",
    "The major task in the data preprocessing is to extract RGB from the png files and format the data as formats that are readily readable by the classifer."
   ]
  },
  {
   "cell_type": "code",
   "execution_count": 5,
   "metadata": {},
   "outputs": [
    {
     "name": "stdout",
     "output_type": "stream",
     "text": [
      "Loading the dataset...\n",
      "Raw data loaded!\n",
      "Labels loaded!\n"
     ]
    }
   ],
   "source": [
    "#total number of images\n",
    "img_num = 50000\n",
    "#read the train set\n",
    "print (\"Loading the dataset...\")\n",
    "X=[]\n",
    "for i in range(1, img_num+1):\n",
    "    filename ='train/'+str(i)+'.png'\n",
    "    data = mpimg.imread(filename)\n",
    "    X.append(data)\n",
    "print (\"Raw data loaded!\")\n",
    "\n",
    "#load the labels \n",
    "label_o = pd.read_csv(\"trainLabels.csv\")\n",
    "class_le = LabelEncoder()\n",
    "label_ = class_le.fit_transform(label_o['label'])\n",
    "y = np.array(label_)\n",
    "print (\"Labels loaded!\")\n",
    "\n",
    "#split the training and testing datasets (80% training, 20% testing)\n",
    "train_X=np.array(X[:40000]).reshape(-1,3072)\n",
    "test_X=np.array(X[40000:]).reshape(-1,3072)\n",
    "train_y=np.array(y[:40000])\n",
    "test_y=np.array(y[40000:])"
   ]
  },
  {
   "cell_type": "markdown",
   "metadata": {},
   "source": [
    "# Model optimization\n",
    "\n",
    "We first try to understand how some the of the key parameters affect the performance of a random forest classifier with the training set in this project, and based on the result a optimal set of parameter are selected.\n",
    "\n",
    "Within the evaluated range, it seems that after n_estimators is larger than 400, the reduction of error rate becomes relatively incremental. Evaluating the error rate for even larger n_estimator quickly becomes expensive in terms of time, and may be less \"cost-effective\". For this analysis, we picked n_estimator = 500. We would like to keep the evaluation of even larger n_estimators for future work."
   ]
  },
  {
   "cell_type": "code",
   "execution_count": 29,
   "metadata": {
    "scrolled": false
   },
   "outputs": [
    {
     "name": "stdout",
     "output_type": "stream",
     "text": [
      "RandomForestClassifier, max_feature='sqrt'  fit for  10 estimators \n",
      "RandomForestClassifier, max_feature='sqrt'  fit for  60 estimators \n",
      "RandomForestClassifier, max_feature='sqrt'  fit for  110 estimators \n",
      "RandomForestClassifier, max_feature='sqrt'  fit for  160 estimators \n",
      "RandomForestClassifier, max_feature='sqrt'  fit for  210 estimators \n",
      "RandomForestClassifier, max_feature='sqrt'  fit for  260 estimators \n",
      "RandomForestClassifier, max_feature='sqrt'  fit for  310 estimators \n",
      "RandomForestClassifier, max_feature='sqrt'  fit for  360 estimators \n",
      "RandomForestClassifier, max_feature='sqrt'  fit for  410 estimators \n",
      "RandomForestClassifier, max_feature='sqrt'  fit for  460 estimators \n",
      "RandomForestClassifier, max_feature='sqrt'  fit for  510 estimators \n",
      "RandomForestClassifier, max_feature='log2  fit for  10 estimators \n",
      "RandomForestClassifier, max_feature='log2  fit for  60 estimators \n",
      "RandomForestClassifier, max_feature='log2  fit for  110 estimators \n",
      "RandomForestClassifier, max_feature='log2  fit for  160 estimators \n",
      "RandomForestClassifier, max_feature='log2  fit for  210 estimators \n",
      "RandomForestClassifier, max_feature='log2  fit for  260 estimators \n",
      "RandomForestClassifier, max_feature='log2  fit for  310 estimators \n",
      "RandomForestClassifier, max_feature='log2  fit for  360 estimators \n",
      "RandomForestClassifier, max_feature='log2  fit for  410 estimators \n",
      "RandomForestClassifier, max_feature='log2  fit for  460 estimators \n",
      "RandomForestClassifier, max_feature='log2  fit for  510 estimators \n"
     ]
    },
    {
     "data": {
      "image/png": "[encoded data removed]",
      "text/plain": [
       "<matplotlib.figure.Figure at 0x1ecad4b4400>"
      ]
     },
     "metadata": {},
     "output_type": "display_data"
    }
   ],
   "source": [
    "#define a function to explore the optimal n_estimators setting\n",
    "def mod_optimization (min_estimator, max_estimator, step, train_X, train_y):\n",
    "\n",
    "    RANDOM_STATE = 123\n",
    "\n",
    "    #define a list of classifiers with different splitting options (max_features)\n",
    "    ensemble_classifiers = [(\"RandomForestClassifier, max_feature='sqrt'\", \n",
    "                             RandomForestClassifier(warm_start=True, oob_score=True, max_features='sqrt', \n",
    "                                                    random_state=RANDOM_STATE, n_jobs=-1)),\n",
    "                           (\"RandomForestClassifier, max_feature='log2\", \n",
    "                           RandomForestClassifier(warm_start=True, oob_score=True, max_features='log2',\n",
    "                                                 random_state=RANDOM_STATE, n_jobs=-1))]\n",
    "\n",
    "    error_rate = OrderedDict((label, []) for label, _ in ensemble_classifiers)\n",
    "\n",
    "    #model evaluation\n",
    "    for label, classifier in ensemble_classifiers:\n",
    "        for i in range(min_estimator, max_estimator + 1, step):\n",
    "            classifier.set_params(n_estimators = i )\n",
    "            classifier.fit(train_X, train_y)\n",
    "            print(label,\" fit for \", i, \"estimators \")\n",
    "\n",
    "            oob_error = 1 - classifier.oob_score_\n",
    "            error_rate[label].append((i, oob_error))\n",
    "\n",
    "    #plot the error vs the number of estimators\n",
    "    for label, error in error_rate.items():\n",
    "        x, y = zip(*error)\n",
    "        plt.plot(x, y, label=label)\n",
    "\n",
    "    plt.xlim(min_estimator, max_estimator)\n",
    "    plt.xlabel(\"n_estimators\")\n",
    "    plt.ylabel(\"OOB error rate\")\n",
    "    plt.legend(loc=\"upper right\")\n",
    "    plt.show()\n",
    "    \n",
    "\n",
    "mod_optimization(10, 510, 50, train_X, train_y)"
   ]
  },
  {
   "cell_type": "markdown",
   "metadata": {},
   "source": [
    "## Fit the model"
   ]
  },
  {
   "cell_type": "markdown",
   "metadata": {},
   "source": [
    "Based on the model optimization above, n_estimators = 500 was selected for the random forest classifier in thr formal analysis."
   ]
  },
  {
   "cell_type": "code",
   "execution_count": 30,
   "metadata": {
    "scrolled": false
   },
   "outputs": [
    {
     "name": "stdout",
     "output_type": "stream",
     "text": [
      "Model trained!\n",
      "Training accuracy: 1.0\n",
      "Elapsed time:  5.4784034530321755\n"
     ]
    }
   ],
   "source": [
    "#train the random forest classifier\n",
    "start = time()\n",
    "rf_cifar = RandomForestClassifier(n_jobs=-1, n_estimators=500)\n",
    "#The first 35000 labels correpond to the images used as training set\n",
    "rf_cifar.fit(train_X, train_y)\n",
    "end = time()\n",
    "print (\"Model trained!\")\n",
    "print(\"Training accuracy:\", rf_cifar.score(train_X, train_y))\n",
    "print(\"Elapsed time: \", (end-start)/60.)"
   ]
  },
  {
   "cell_type": "markdown",
   "metadata": {},
   "source": [
    "## Evaluate the model"
   ]
  },
  {
   "cell_type": "code",
   "execution_count": 31,
   "metadata": {},
   "outputs": [
    {
     "name": "stdout",
     "output_type": "stream",
     "text": [
      "Precision:\n",
      "airplane : 0.567398119122\n",
      "automobile : 0.521781219748\n",
      "bird : 0.388607594937\n",
      "cat : 0.404109589041\n",
      "deer : 0.400801603206\n",
      "dog : 0.425349087003\n",
      "frog : 0.450826121164\n",
      "horse : 0.520134228188\n",
      "ship : 0.585454545455\n",
      "truck : 0.47762345679\n",
      "\n",
      "Recall:\n",
      "airplane : 0.53550295858\n",
      "automobile : 0.531558185404\n",
      "bird : 0.322478991597\n",
      "cat : 0.290354330709\n",
      "deer : 0.401203610832\n",
      "dog : 0.386341463415\n",
      "frog : 0.584693877551\n",
      "horse : 0.475946775844\n",
      "ship : 0.642073778664\n",
      "truck : 0.605675146771\n",
      "\n",
      "Overall accuracy:  0.4781\n"
     ]
    }
   ],
   "source": [
    "#evaluate the performance of the classifier\n",
    "\n",
    "pred_y = rf_cifar.predict(test_X)\n",
    "result = precision_recall_fscore_support(test_y, pred_y)\n",
    "classes = [class_le.inverse_transform(i) for i in rf_cifar.classes_]\n",
    "print (\"Precision:\")\n",
    "for i in range(len(classes)):\n",
    "    print(classes[i],':', result[0][i])\n",
    "print (\"\\nRecall:\")\n",
    "for i in range(len(classes)):\n",
    "    print(classes[i],':', result[1][i])\n",
    "\n",
    "print (\"\\nOverall accuracy: \", accuracy_score(test_y, pred_y))"
   ]
  },
  {
   "cell_type": "markdown",
   "metadata": {},
   "source": [
    "# Classification of the handwritten digits in the MNIST database by Random Forest Classifier"
   ]
  },
  {
   "cell_type": "markdown",
   "metadata": {},
   "source": [
    "## Data preprocessing\n",
    "\n",
    "Images have been preprocessed and readily available in the tensorflow package. For this analysis, we just import data as numpy arrays."
   ]
  },
  {
   "cell_type": "code",
   "execution_count": 27,
   "metadata": {
    "scrolled": false
   },
   "outputs": [
    {
     "name": "stdout",
     "output_type": "stream",
     "text": [
      "WARNING:tensorflow:From C:\\Users\\isaac\\AppData\\Local\\Continuum\\anaconda3\\lib\\site-packages\\tensorflow\\contrib\\learn\\python\\learn\\datasets\\base.py:198: retry (from tensorflow.contrib.learn.python.learn.datasets.base) is deprecated and will be removed in a future version.\n",
      "Instructions for updating:\n",
      "Use the retry module or similar alternatives.\n",
      "WARNING:tensorflow:From <ipython-input-27-ce30900f3751>:3: read_data_sets (from tensorflow.contrib.learn.python.learn.datasets.mnist) is deprecated and will be removed in a future version.\n",
      "Instructions for updating:\n",
      "Please use alternatives such as official/mnist/dataset.py from tensorflow/models.\n",
      "WARNING:tensorflow:From C:\\Users\\isaac\\AppData\\Local\\Continuum\\anaconda3\\lib\\site-packages\\tensorflow\\contrib\\learn\\python\\learn\\datasets\\mnist.py:260: maybe_download (from tensorflow.contrib.learn.python.learn.datasets.base) is deprecated and will be removed in a future version.\n",
      "Instructions for updating:\n",
      "Please write your own downloading logic.\n",
      "WARNING:tensorflow:From C:\\Users\\isaac\\AppData\\Local\\Continuum\\anaconda3\\lib\\site-packages\\tensorflow\\contrib\\learn\\python\\learn\\datasets\\mnist.py:262: extract_images (from tensorflow.contrib.learn.python.learn.datasets.mnist) is deprecated and will be removed in a future version.\n",
      "Instructions for updating:\n",
      "Please use tf.data to implement this functionality.\n",
      "Extracting MNIST_data\\train-images-idx3-ubyte.gz\n",
      "WARNING:tensorflow:From C:\\Users\\isaac\\AppData\\Local\\Continuum\\anaconda3\\lib\\site-packages\\tensorflow\\contrib\\learn\\python\\learn\\datasets\\mnist.py:267: extract_labels (from tensorflow.contrib.learn.python.learn.datasets.mnist) is deprecated and will be removed in a future version.\n",
      "Instructions for updating:\n",
      "Please use tf.data to implement this functionality.\n",
      "Extracting MNIST_data\\train-labels-idx1-ubyte.gz\n",
      "Extracting MNIST_data\\t10k-images-idx3-ubyte.gz\n",
      "Extracting MNIST_data\\t10k-labels-idx1-ubyte.gz\n",
      "WARNING:tensorflow:From C:\\Users\\isaac\\AppData\\Local\\Continuum\\anaconda3\\lib\\site-packages\\tensorflow\\contrib\\learn\\python\\learn\\datasets\\mnist.py:290: DataSet.__init__ (from tensorflow.contrib.learn.python.learn.datasets.mnist) is deprecated and will be removed in a future version.\n",
      "Instructions for updating:\n",
      "Please use alternatives such as official/mnist/dataset.py from tensorflow/models.\n"
     ]
    }
   ],
   "source": [
    "import tensorflow as tf\n",
    "from tensorflow.examples.tutorials.mnist import input_data\n",
    "mnist = input_data.read_data_sets('MNIST_data', one_hot=False)"
   ]
  },
  {
   "cell_type": "markdown",
   "metadata": {},
   "source": [
    "The data extracted from the tensorflow package are typically in tuples. Each element, which is an array, in the tuples represents an image. Because the images are gray, the dimension of each image is 28x28. There 55000 images in the training set and 10000 images in the testing set."
   ]
  },
  {
   "cell_type": "markdown",
   "metadata": {},
   "source": [
    "# Optimize the model\n",
    "\n",
    "Similar optimization practice was conducted by using the mod_optimization function defined in the previous steps. The primary purpose was to identify the optimal n_estimators."
   ]
  },
  {
   "cell_type": "code",
   "execution_count": 33,
   "metadata": {},
   "outputs": [
    {
     "name": "stdout",
     "output_type": "stream",
     "text": [
      "RandomForestClassifier, max_feature='sqrt'  fit for  10 estimators \n",
      "RandomForestClassifier, max_feature='sqrt'  fit for  60 estimators \n",
      "RandomForestClassifier, max_feature='sqrt'  fit for  110 estimators \n",
      "RandomForestClassifier, max_feature='sqrt'  fit for  160 estimators \n",
      "RandomForestClassifier, max_feature='sqrt'  fit for  210 estimators \n",
      "RandomForestClassifier, max_feature='sqrt'  fit for  260 estimators \n",
      "RandomForestClassifier, max_feature='sqrt'  fit for  310 estimators \n",
      "RandomForestClassifier, max_feature='sqrt'  fit for  360 estimators \n",
      "RandomForestClassifier, max_feature='sqrt'  fit for  410 estimators \n",
      "RandomForestClassifier, max_feature='sqrt'  fit for  460 estimators \n",
      "RandomForestClassifier, max_feature='sqrt'  fit for  510 estimators \n",
      "RandomForestClassifier, max_feature='log2  fit for  10 estimators \n",
      "RandomForestClassifier, max_feature='log2  fit for  60 estimators \n",
      "RandomForestClassifier, max_feature='log2  fit for  110 estimators \n",
      "RandomForestClassifier, max_feature='log2  fit for  160 estimators \n",
      "RandomForestClassifier, max_feature='log2  fit for  210 estimators \n",
      "RandomForestClassifier, max_feature='log2  fit for  260 estimators \n",
      "RandomForestClassifier, max_feature='log2  fit for  310 estimators \n",
      "RandomForestClassifier, max_feature='log2  fit for  360 estimators \n",
      "RandomForestClassifier, max_feature='log2  fit for  410 estimators \n",
      "RandomForestClassifier, max_feature='log2  fit for  460 estimators \n",
      "RandomForestClassifier, max_feature='log2  fit for  510 estimators \n"
     ]
    },
    {
     "data": {
      "image/png": "[encoded data removed]",
      "text/plain": [
       "<matplotlib.figure.Figure at 0x1ecad4a3080>"
      ]
     },
     "metadata": {},
     "output_type": "display_data"
    }
   ],
   "source": [
    "train_X = np.array([img.flatten(1) for img in mnist.train.images])\n",
    "train_y = mnist.train.labels\n",
    "\n",
    "mod_optimization (10, 510, 50, train_X, train_y)"
   ]
  },
  {
   "cell_type": "markdown",
   "metadata": {},
   "source": [
    "# Fit the model\n",
    "\n",
    "After n_estimator is larger than 200 or 300, the classification error becomes relatively stable. Thus, we selected 300 as the n_estimator after balancing the time cost and increased accuracy."
   ]
  },
  {
   "cell_type": "code",
   "execution_count": 38,
   "metadata": {},
   "outputs": [
    {
     "name": "stdout",
     "output_type": "stream",
     "text": [
      "Model trained!\n",
      "Mean accuracy: 1.0\n",
      "Elapse time:  0.7186755140622457 minutes\n"
     ]
    }
   ],
   "source": [
    "start = time()\n",
    "rf_mnist = RandomForestClassifier(n_jobs=-1, n_estimators=300)\n",
    "rf_mnist.fit(train_X, train_y)\n",
    "end = time()\n",
    "\n",
    "et = (end - start)/60.\n",
    "print(\"Model trained!\")\n",
    "print (\"Mean accuracy:\", rf_mnist.score(train_X,train_y))\n",
    "print (\"Elapse time: \", et, \"minutes\")"
   ]
  },
  {
   "cell_type": "markdown",
   "metadata": {},
   "source": [
    "## Evaluate the model"
   ]
  },
  {
   "cell_type": "code",
   "execution_count": 39,
   "metadata": {},
   "outputs": [
    {
     "name": "stdout",
     "output_type": "stream",
     "text": [
      "Precision:\n",
      "0 : 0.972945891784\n",
      "1 : 0.991166077739\n",
      "2 : 0.963391136802\n",
      "3 : 0.962413452028\n",
      "4 : 0.971544715447\n",
      "5 : 0.975113122172\n",
      "6 : 0.974039460021\n",
      "7 : 0.9736328125\n",
      "8 : 0.963768115942\n",
      "9 : 0.961\n",
      "\n",
      "Recall:\n",
      "0 : 0.990816326531\n",
      "1 : 0.988546255507\n",
      "2 : 0.968992248062\n",
      "3 : 0.963366336634\n",
      "4 : 0.973523421589\n",
      "5 : 0.966367713004\n",
      "6 : 0.979123173278\n",
      "7 : 0.969844357977\n",
      "8 : 0.955852156057\n",
      "9 : 0.95242814668\n",
      "Overal scores: 0.9711\n"
     ]
    }
   ],
   "source": [
    "test_X = np.array([img.flatten(1) for img in mnist.test.images])\n",
    "test_y = mnist.test.labels\n",
    "\n",
    "test_y_pred = rf_mnist.predict(test_X)\n",
    "\n",
    "\n",
    "result = precision_recall_fscore_support(test_y, test_y_pred)\n",
    "classes = [i for i in range(10)]\n",
    "print (\"Precision:\")\n",
    "for i in range(len(classes)):\n",
    "    print(classes[i],':', result[0][i])\n",
    "print (\"\\nRecall:\")\n",
    "for i in range(len(classes)):\n",
    "    print(classes[i],':', result[1][i])\n",
    "    \n",
    "print(\"Overal scores:\", accuracy_score(test_y, test_y_pred))"
   ]
  }
 ],
 "metadata": {
  "kernelspec": {
   "display_name": "Python 3",
   "language": "python",
   "name": "python3"
  },
  "language_info": {
   "codemirror_mode": {
    "name": "ipython",
    "version": 3
   },
   "file_extension": ".py",
   "mimetype": "text/x-python",
   "name": "python",
   "nbconvert_exporter": "python",
   "pygments_lexer": "ipython3",
   "version": "3.6.3"
  }
 },
 "nbformat": 4,
 "nbformat_minor": 2
}
