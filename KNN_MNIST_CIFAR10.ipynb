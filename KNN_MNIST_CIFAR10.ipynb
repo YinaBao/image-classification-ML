{
 "cells": [
  {
   "cell_type": "markdown",
   "metadata": {},
   "source": [
    "# Classification of images by KNN"
   ]
  },
  {
   "cell_type": "code",
   "execution_count": 3,
   "metadata": {},
   "outputs": [],
   "source": [
    "# Import the necessary packages\n",
    "from sklearn.neighbors import KNeighborsClassifier\n",
    "from sklearn.cross_validation import train_test_split\n",
    "from sklearn.preprocessing import LabelEncoder\n",
    "import tensorflow as tf \n",
    "from tensorflow.examples.tutorials.mnist import input_data\n",
    "import pandas as pd\n",
    "import matplotlib.image as mpimg\n",
    "import numpy as np\n",
    "import os"
   ]
  },
  {
   "cell_type": "markdown",
   "metadata": {},
   "source": [
    "## CIFAR10 dataset classification by KNN\n",
    "\n",
    "The dataset labeled as \"train\" has 50000 images saved as png files and a csv file with labels to identify each of these files are also available. We will use this dataset and split it into a training set and testing set for this project.\n",
    "\n",
    "We will use 'imread()' function to extract the pixel RGB information and matched label in CSV file.\n",
    "\n",
    "Then we split 80% as the training set, and 20% as the testing set."
   ]
  },
  {
   "cell_type": "code",
   "execution_count": 10,
   "metadata": {
    "collapsed": true
   },
   "outputs": [],
   "source": [
    "# Load the CIFAR10 dataset\n",
    "os.chdir('/Users/YINA/Desktop/MLPythonProj/train') # Change to the directory of data \n",
    "\n",
    "data=[]\n",
    "# Read the images features and save them in 'data' list\n",
    "for i in range(1,50001):\n",
    "    x=str(i)+'.png'\n",
    "    y=mpimg.imread(x)\n",
    "    data.append(y)\n",
    "    \n",
    "# Load the label file and save them in 'label' list    \n",
    "label_o=pd.read_csv('trainLabels.csv')\n",
    "class_le = LabelEncoder()\n",
    "label_ = class_le.fit_transform(label_o['label'])\n",
    "label = np.array(label_)\n",
    "\n",
    "# Split 80% as the training set, 20% as the testing set\n",
    "X_train=np.array(data[:40000]).reshape(-1,3072)\n",
    "X_test=np.array(data[40000:]).reshape(-1,3072)\n",
    "y_train=np.array(label[:40000])\n",
    "y_test=np.array(label[40000:])"
   ]
  },
  {
   "cell_type": "markdown",
   "metadata": {},
   "source": [
    "## Fit the training model and evaluate the testing accuracy score"
   ]
  },
  {
   "cell_type": "code",
   "execution_count": 11,
   "metadata": {},
   "outputs": [
    {
     "data": {
      "text/plain": [
       "KNeighborsClassifier(algorithm='auto', leaf_size=30, metric='minkowski',\n",
       "           metric_params=None, n_jobs=-1, n_neighbors=1, p=2,\n",
       "           weights='uniform')"
      ]
     },
     "execution_count": 11,
     "metadata": {},
     "output_type": "execute_result"
    }
   ],
   "source": [
    "# CIFAR-10 training process\n",
    "# Define the classifier\n",
    "model = KNeighborsClassifier(n_neighbors=1, n_jobs=-1)\n",
    "# Fit the model\n",
    "model.fit(X_train, y_train)"
   ]
  },
  {
   "cell_type": "code",
   "execution_count": 7,
   "metadata": {},
   "outputs": [
    {
     "name": "stdout",
     "output_type": "stream",
     "text": [
      "Accuracy: 33.83%\n"
     ]
    }
   ],
   "source": [
    "# CIFAR-10 testing result\n",
    "acc = model.score(X_test, y_test)\n",
    "print(\"Accuracy: {:.2f}%\".format(acc * 100))"
   ]
  },
  {
   "cell_type": "markdown",
   "metadata": {},
   "source": [
    "## MNIST dataset classification by KNN\n",
    "\n",
    "Images have been preprocessed and readily available in the tensorflow package. For this analysis, we just import data as numpy arrays."
   ]
  },
  {
   "cell_type": "code",
   "execution_count": 7,
   "metadata": {},
   "outputs": [
    {
     "name": "stdout",
     "output_type": "stream",
     "text": [
      "Extracting MNIST_data/train-images-idx3-ubyte.gz\n",
      "Extracting MNIST_data/train-labels-idx1-ubyte.gz\n",
      "Extracting MNIST_data/t10k-images-idx3-ubyte.gz\n",
      "Extracting MNIST_data/t10k-labels-idx1-ubyte.gz\n"
     ]
    }
   ],
   "source": [
    "# Load the MNIST dataset from the tensorflow package\n",
    "mnist = input_data.read_data_sets('MNIST_data', one_hot=True)"
   ]
  },
  {
   "cell_type": "markdown",
   "metadata": {},
   "source": [
    "## Fit the training model and evaluate the testing accuracy score"
   ]
  },
  {
   "cell_type": "code",
   "execution_count": 8,
   "metadata": {},
   "outputs": [
    {
     "data": {
      "text/plain": [
       "KNeighborsClassifier(algorithm='auto', leaf_size=30, metric='minkowski',\n",
       "           metric_params=None, n_jobs=-1, n_neighbors=1, p=2,\n",
       "           weights='uniform')"
      ]
     },
     "execution_count": 8,
     "metadata": {},
     "output_type": "execute_result"
    }
   ],
   "source": [
    "# MNIST training process\n",
    "# Define the classifier\n",
    "model = KNeighborsClassifier(n_neighbors=1, n_jobs=-1)\n",
    "# Fit the model\n",
    "model.fit(mnist.train.images, mnist.train.labels)"
   ]
  },
  {
   "cell_type": "code",
   "execution_count": 9,
   "metadata": {},
   "outputs": [
    {
     "name": "stdout",
     "output_type": "stream",
     "text": [
      "Accuracy: 96.77%\n"
     ]
    }
   ],
   "source": [
    "# MNIST testing result\n",
    "acc = model.score(mnist.test.images, mnist.test.labels)\n",
    "print(\"Accuracy: {:.2f}%\".format(acc * 100))"
   ]
  },
  {
   "cell_type": "code",
   "execution_count": null,
   "metadata": {
    "collapsed": true
   },
   "outputs": [],
   "source": []
  }
 ],
 "metadata": {
  "kernelspec": {
   "display_name": "Python 3",
   "language": "python",
   "name": "python3"
  },
  "language_info": {
   "codemirror_mode": {
    "name": "ipython",
    "version": 3
   },
   "file_extension": ".py",
   "mimetype": "text/x-python",
   "name": "python",
   "nbconvert_exporter": "python",
   "pygments_lexer": "ipython3",
   "version": "3.6.3"
  }
 },
 "nbformat": 4,
 "nbformat_minor": 2
}
